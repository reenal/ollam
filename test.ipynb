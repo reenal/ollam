{
 "cells": [
  {
   "cell_type": "code",
   "execution_count": 4,
   "metadata": {},
   "outputs": [],
   "source": [
    "from langchain.llms import Ollama"
   ]
  },
  {
   "cell_type": "code",
   "execution_count": 6,
   "metadata": {},
   "outputs": [],
   "source": [
    "model=Ollama(base_url=\"http://localhost:11434\",model=\"mistral\")"
   ]
  },
  {
   "cell_type": "code",
   "execution_count": 7,
   "metadata": {},
   "outputs": [
    {
     "name": "stderr",
     "output_type": "stream",
     "text": [
      "/home/reenal/anaconda3/envs/ollama/lib/python3.10/site-packages/langchain_core/_api/deprecation.py:119: LangChainDeprecationWarning: The method `BaseLLM.__call__` was deprecated in langchain-core 0.1.7 and will be removed in 0.3.0. Use invoke instead.\n",
      "  warn_deprecated(\n"
     ]
    },
    {
     "data": {
      "text/plain": [
       "' Hello! I\\'d be happy to help answer your question, but it\\'s important to note that the field of Artificial Intelligence (AI) is vast and constantly evolving, so identifying the \"most significant\" research findings can be subjective. However, here are some landmark achievements in AI research that have had a profound impact on the field:\\n\\n1. Deep Blue (IBM, 1997): Deep Blue was a chess-playing computer developed by IBM that famously defeated then-world champion Garry Kasparov in a six-game match. This was a significant achievement because chess is a complex game that requires deep strategic thinking and pattern recognition, making it an excellent test for AI systems.\\n2. AlphaGo (DeepMind, 2016): AlphaGo is an AI system developed by DeepMind that defeated the world champion in the ancient Chinese board game Go. Go has more possible board configurations than atoms in the universe, and mastering the game requires not just simple pattern recognition but also complex strategic planning and creativity.\\n3. AlexNet (Alex Krizhevsky et al., 2012): AlexNet was a neural network designed for image recognition that won the ImageNet Large Scale Visual Recognition Challenge in 2012. This achievement marked a significant breakthrough in computer vision and deep learning, paving the way for advances in self-driving cars, facial recognition, and more.\\n4. DALL-E (OpenAI, 2021): DALL-E is an AI system developed by OpenAI that can generate images based on text descriptions. This achievement represents a significant step forward in natural language processing and computer vision, as it shows the potential for machines to understand and generate human-like creative content.\\n5. AlphaZero (DeepMind, 2018): AlphaZero is an AI system developed by DeepMind that can learn to play games such as chess, Go, and shogi without any human intervention or prior knowledge of the rules. This achievement demonstrates the power of self-learning algorithms and their ability to master complex tasks on their own.\\n\\nThese are just a few examples of significant research in the field of AI. There are many other areas of ongoing research, such as robotics, natural language processing, speech recognition, and more. Each advancement builds upon the work of previous researchers and pushes the boundaries of what is possible with AI technology.'"
      ]
     },
     "execution_count": 7,
     "metadata": {},
     "output_type": "execute_result"
    }
   ],
   "source": [
    "model(\"hi can you tell me the most significat research in the filed of AI?\")"
   ]
  },
  {
   "cell_type": "code",
   "execution_count": null,
   "metadata": {},
   "outputs": [],
   "source": [
    "model(\"hi can you tell me the about AI?\")"
   ]
  }
 ],
 "metadata": {
  "kernelspec": {
   "display_name": "ollama",
   "language": "python",
   "name": "python3"
  },
  "language_info": {
   "codemirror_mode": {
    "name": "ipython",
    "version": 3
   },
   "file_extension": ".py",
   "mimetype": "text/x-python",
   "name": "python",
   "nbconvert_exporter": "python",
   "pygments_lexer": "ipython3",
   "version": "3.10.14"
  }
 },
 "nbformat": 4,
 "nbformat_minor": 2
}
